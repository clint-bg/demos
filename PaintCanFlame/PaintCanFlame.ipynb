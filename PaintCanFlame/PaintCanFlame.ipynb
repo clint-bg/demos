{
  "nbformat": 4,
  "nbformat_minor": 0,
  "metadata": {
    "colab": {
      "provenance": [],
      "collapsed_sections": [],
      "authorship_tag": "ABX9TyMBDYIAuQUCpsUbkVuBpD6K",
      "include_colab_link": true
    },
    "kernelspec": {
      "name": "python3",
      "display_name": "Python 3"
    },
    "language_info": {
      "name": "python"
    }
  },
  "cells": [
    {
      "cell_type": "markdown",
      "metadata": {
        "id": "view-in-github",
        "colab_type": "text"
      },
      "source": [
        "<a href=\"https://colab.research.google.com/github/clint-bg/demos/blob/main/PaintCanFlame/PaintCanFlame.ipynb\" target=\"_parent\"><img src=\"https://colab.research.google.com/assets/colab-badge.svg\" alt=\"Open In Colab\"/></a>"
      ]
    },
    {
      "cell_type": "markdown",
      "source": [
        "# Paint Can Flame and Explosion \n",
        "Clint Guymon<br>\n",
        "BYU Chemical Engineering"
      ],
      "metadata": {
        "id": "CaxZMs6Rl1M1"
      }
    },
    {
      "cell_type": "markdown",
      "source": [
        "A one gallon paint can is filled with a flammable gas (methane). There is a small hole in the side and a small hole in the top. After filling the paint can with the flammable gas, the fumes/gas is ignited above the can and a large flame is visible. Air is pulled into the can and mixes with the flammble gas and the concentration of the flammable gas and the flame size decreases. "
      ],
      "metadata": {
        "id": "55iU81wjARAb"
      }
    },
    {
      "cell_type": "code",
      "execution_count": 2,
      "metadata": {
        "id": "ekgBkM2ylzFS"
      },
      "outputs": [],
      "source": [
        "import numpy as np\n",
        "import matplotlib.pyplot as plt\n",
        "from scipy.integrate import odeint\n",
        "import param"
      ]
    },
    {
      "cell_type": "markdown",
      "source": [
        "![](https://raw.githubusercontent.com/clint-bg/demos/main/PaintCanFlame/PaintCanImage.png)"
      ],
      "metadata": {
        "id": "YebKpwGK_WkU"
      }
    },
    {
      "cell_type": "markdown",
      "source": [
        "## Material Balances"
      ],
      "metadata": {
        "id": "xtM0JCCxAK07"
      }
    },
    {
      "cell_type": "markdown",
      "source": [
        "The change in the internal composition of the can can be estimated from a material balance where:<br>\n",
        "accumulation = in - out + generation - consumption<br><br>\n",
        "The above equation can be written for both the flammable component (methane) and the air component inside the can. There isn't any generation or consumption of air or methane inside the can so those terms are zero. The accumulation term is a derivative. In symbolic notation the above equation is: <br>\n",
        "\\begin{align}\n",
        "dn_f/dt = \\dot{n}^{in}_f - \\dot{n}^{out}_f, \\\\\n",
        "dn_a/dt = \\dot{n}^{in}_a - \\dot{n}^{out}_a\n",
        "\\end{align} <br>\n",
        "The dot above the n indicates a rate so that $\\dot{n}$ is the change in moles per second from the flow into or out of the can. The derivatives, $dn/dt$, is the change in moles inside the can of the flammable or air component per time. These derivatives are important as they can be integrated numerically to obtain the actual number of moles as a function of time inside the can. With that information, the expected time before the flame is expected to go out or transition inside the can can be estimated. Similarly, the time at which a flammable concentration is reached inside the can can be determined. <br><br>\n",
        "\n",
        "There isn't flow of flammable gas into the can so the $\\dot{n}^{in}_f$ term is zero. The other terms can be estimated:\n",
        "- The flow out of the hole can be estimated from buoyancy effects (based on the concentration of the gas inside the can assumed to be perfectly mixed). Effect of diffusion can also be included.\n",
        "- The flow into the can is the same as the outflow except that the composition remains at 100% air.\n"
      ],
      "metadata": {
        "id": "k04cW6RQAiPR"
      }
    },
    {
      "cell_type": "markdown",
      "source": [
        "## Outflow Approximation"
      ],
      "metadata": {
        "id": "hhM1Hx9HbQYF"
      }
    },
    {
      "cell_type": "markdown",
      "source": [
        "The outflow from the can is based on the buoyancy and diffusion of the internal gases. Determining that rate from first principles can be complex so we'll attempt an estimate. We'll now how accurate the estimate if the model accurately predicts the real world result: time to explosion from ignition to explosion of the gases inside the paint can. <br><br>\n",
        "\n",
        "Approximation: A sphere exits the top of the can with diamter equal to the orifice diameter and proceeds to accelerate upwards based on the buoyancy force. The buoyancy force is assumed to proceed for 1/3 of a second before it disperses (estimate I made up, we'll see if it's right). Based on that force and time of acceleration, a rate of flow from the orifice can be estimated. Additive to that estimate is from the molar flow from the orifice based on the diffusivity of methane in air. The equations used are not given here but listed below."
      ],
      "metadata": {
        "id": "esSozWJdlmoz"
      }
    },
    {
      "cell_type": "markdown",
      "source": [
        "![](https://raw.githubusercontent.com/clint-bg/demos/main/PaintCanFlame/Bouyancy-1.png)"
      ],
      "metadata": {
        "id": "j8yKeUJhqtAA"
      }
    },
    {
      "cell_type": "markdown",
      "source": [
        "## Object Oriented Model"
      ],
      "metadata": {
        "id": "zFYU39iu-kWw"
      }
    },
    {
      "cell_type": "markdown",
      "source": [
        "Natural gas is introduced to the can with a constant flow rate at the hole in the side of the can. The below equations are used to predict the time it takes to fill and empty the can. \n",
        "\n",
        "Two conditions must be met for there to be a rapid combustion event (explosion) within the can:\n",
        "- The flow rate must be less than the flame propagation speed\n",
        "- The concentration within the can must be in the flammability limit"
      ],
      "metadata": {
        "id": "YvfK_22deBNo"
      }
    },
    {
      "cell_type": "code",
      "source": [
        "class Can(param.Parameterized):\n",
        "  'Model for filling can with a gas'\n",
        "  Rg = param.Number(8.314,doc='Gas constant (Jol/mol/K)',constant=True)\n",
        "  ch4mw = param.Number(0.016,doc='methane molecular weight (kg/mol)',constant=True)\n",
        "  airmw = param.Number(0.029,doc='air molecular weight (kg/mol)',constant=True)\n",
        "  Vol = param.Number(0.00379,doc='Volume of 1 gallon in m3 (m3)')\n",
        "  Patm = param.Number(85000,doc='Atmospheric pressure (Pa)')\n",
        "  T = param.Number(295,doc='Temperature (K)')\n",
        "  nfdotin = param.Number(24,doc='Flow speed of flammable gas into can (in/s)')\n",
        "  tophole = param.Number(0.3*0.0254,doc='Top hole diameter (m)')\n",
        "\n",
        "  #solved for parameters\n",
        "  t = param.List(np.linspace(0,800,600).tolist()) #list of times to solve for, converted to a list\n",
        "\n",
        "  def rho_air(self): #kg/m3\n",
        "    return self.Patm/(self.Rg*self.T)*self.airmw #ideal gas law\n",
        "  \n",
        "  def rho_ch4(self): #kg/m3\n",
        "    return self.Patm/(self.Rg*self.T)*self.ch4mw\n",
        "\n",
        "  def inletflow(self): #from source\n",
        "    return (self.nfdotin*0.25*np.pi*(3/8)**2)/61023*self.rho_ch4()/self.ch4mw #'Molar flow rate of flammable gas  (mol/s)'\n",
        "  \n",
        "  def outlet(self,fracf): #outlet flow from top hole on can due to bouyancy (ignoring diffusion and the effects of the bouyancy of the heating area above the hole) \n",
        "    #dvdt = -rhoCH4*V*g+rhoAir*V*g, assuming the bouyancy force last for 1 sec through the tophole\n",
        "    rho = fracf*self.rho_ch4()+(1-fracf)*self.rho_air();  mw = fracf*self.ch4mw+(1-fracf)*self.airmw;\n",
        "    accel = (self.rho_air()-rho)*9.81/rho #m/s**2\n",
        "    #molesinbubble = rho/mw*4/3*np.pi*(self.tophole/2)**3\n",
        "    molesincyl = rho/mw*self.tophole*0.25*np.pi*self.tophole**2\n",
        "    exittime = np.sqrt(self.tophole*2/accel) #time to exit the hole (with above acceleration starting at zero at the exit)\n",
        "    #now include diffusion\n",
        "    methaneinairD = 0.221/(1e4) #m**2/s\n",
        "    fluxD = rho*methaneinairD/mw*(fracf-0)/self.tophole*0.25*np.pi*self.tophole**2 #mol/s, diffusion length assumed to be one hole diameter\n",
        "    fluxv = fluxD*mw/rho/(0.25*np.pi*self.tophole**2) #m/s\n",
        "\n",
        "    #now include buoyancy from flame size (an eductor effect)\n",
        "    #assume flame height or density corresponds linearly to the fraction of methane in the can\n",
        "    rhoHot = rho*298/(1100*fracf + 298*(1-fracf))\n",
        "    accelHot = (self.rho_air()-rhoHot)*9.81/rhoHot #m/s**2\n",
        "    exittimeHot = np.sqrt(self.tophole*2/accelHot)\n",
        "\n",
        "    vel = self.tophole/exittime + fluxv + self.tophole/exittimeHot*0 #m/s\n",
        "    flow = molesincyl/exittime + fluxD + molesincyl/exittimeHot*0 #mol/sec\n",
        "    return [vel,flow]\n",
        "\n",
        "  def totalmoles(self): #moles of air\n",
        "    return self.Patm*self.Vol/(self.Rg*self.T)\n",
        "\n",
        "  def derivs_fill(self,y,t): #return derivatives for dependent variables for filling\n",
        "    #dn/dt = nfdotin - nout \n",
        "    #dnf/dt = nfdotin - nfout\n",
        "    #dna/dt = naout\n",
        "\n",
        "    nf,na = y; fracf = nf/(na+nf); flow = self.inletflow()\n",
        "    dnfdt = flow - fracf*flow\n",
        "    dnadt = -(1-fracf)*flow\n",
        "    dydt = [dnfdt,dnadt]\n",
        "    return dydt\n",
        "\n",
        "  def derivs_empty(self,y,t): #derivatives for emptying\n",
        "    #dn/dt = nfin - nout \n",
        "    #dnf/dt = - nfout\n",
        "    #dna/dt = nain - naout\n",
        "\n",
        "    nf,na = y; fracf = nf/(na+nf); flow = self.outlet(fracf)[1]\n",
        "    dnfdt = - flow*fracf\n",
        "    dnadt = flow - (1-fracf)*flow\n",
        "    dydt = [dnfdt,dnadt]\n",
        "    return dydt\n",
        "  \n",
        "  def solve(self): #solves for each time step\n",
        "    self.fill = odeint(self.derivs_fill,[0,self.totalmoles()],self.t)\n",
        "    self.empty = odeint(self.derivs_empty,[self.totalmoles(),0],self.t)"
      ],
      "metadata": {
        "id": "JudnkPpxd6H7"
      },
      "execution_count": 3,
      "outputs": []
    },
    {
      "cell_type": "code",
      "source": [
        "paintcan = Can()"
      ],
      "metadata": {
        "id": "eiwT--6sqafH"
      },
      "execution_count": 4,
      "outputs": []
    },
    {
      "cell_type": "code",
      "source": [
        "paintcan.solve()"
      ],
      "metadata": {
        "id": "VB-T6g2cD6Yk"
      },
      "execution_count": 5,
      "outputs": []
    },
    {
      "cell_type": "code",
      "source": [
        "fracff = paintcan.fill[:, 0]/(paintcan.fill[:,1]+paintcan.fill[:,0])\n",
        "fracfe = paintcan.empty[:, 0]/(paintcan.empty[:,1]+paintcan.empty[:,0])"
      ],
      "metadata": {
        "id": "-zw9PXuiWX6I"
      },
      "execution_count": 6,
      "outputs": []
    },
    {
      "cell_type": "code",
      "source": [
        "x = paintcan.t\n",
        "upperfl = [0.15 for each in x]; lowerfl = [0.05 for each in x]"
      ],
      "metadata": {
        "id": "k4VUPOHCZAn4"
      },
      "execution_count": 7,
      "outputs": []
    },
    {
      "cell_type": "code",
      "source": [
        "fig, ax = plt.subplots(figsize=(12,8))\n",
        "#plt.plot(can0.t, fracff, label='Mole fraction of flammable gas during filling')\n",
        "plt.plot(paintcan.t, fracfe,'r', label='Mole fraction of flammable gas during emptying')\n",
        "plt.plot(paintcan.t,paintcan.outlet(fracfe)[0],'b-.', label='Outlet flow velocity (m/s)')\n",
        "plt.plot(paintcan.t,[0.3 for each in paintcan.t],'k--',alpha=0.5,label='CH4 flame propagation speed (m/s)')\n",
        "ax.fill_between(x,upperfl,lowerfl,color='r',alpha=0.1,label='flammability limits')\n",
        "plt.legend(loc='best')\n",
        "plt.xlabel('time (sec)')\n",
        "ax.set_ylim([0, 1])\n",
        "plt.text(50,0.1,'Flammable zone');plt.text(50,0.31,'CH4 Flame Speed (0.3 m/s)')\n",
        "plt.grid()\n",
        "plt.show()"
      ],
      "metadata": {
        "colab": {
          "base_uri": "https://localhost:8080/",
          "height": 501
        },
        "id": "o7OgDIN_EjSx",
        "outputId": "fac80f2e-ca9e-407c-a46c-b0a6c6108549"
      },
      "execution_count": 15,
      "outputs": [
        {
          "output_type": "display_data",
          "data": {
            "text/plain": [
              "<Figure size 864x576 with 1 Axes>"
            ],
            "image/png": "[encoded data removed]"
          },
          "metadata": {
            "needs_background": "light"
          }
        }
      ]
    },
    {
      "cell_type": "code",
      "source": [
        "#mass of oxygen and methane that react stoichiometrically once the flammability limit is reached\n",
        "molesofO2 = paintcan.totalmoles()*(1-0.15)*0.21\n",
        "reqMolCH4 = 0.5*molesofO2\n",
        "molesofO2*32 + reqMolCH4*16"
      ],
      "metadata": {
        "colab": {
          "base_uri": "https://localhost:8080/"
        },
        "id": "W6dRnieqjhd7",
        "outputId": "7208e068-6ced-451e-86ec-017ee1a17b1e"
      },
      "execution_count": 14,
      "outputs": [
        {
          "output_type": "execute_result",
          "data": {
            "text/plain": [
              "0.9378304106204358"
            ]
          },
          "metadata": {},
          "execution_count": 14
        }
      ]
    },
    {
      "cell_type": "code",
      "source": [],
      "metadata": {
        "id": "7BxJTO2hk8H5"
      },
      "execution_count": 8,
      "outputs": []
    }
  ]
}