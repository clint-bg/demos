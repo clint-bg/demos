{
  "nbformat": 4,
  "nbformat_minor": 0,
  "metadata": {
    "colab": {
      "provenance": [],
      "authorship_tag": "ABX9TyNNZPAHWHA+ABK4jH36WhAx",
      "include_colab_link": true
    },
    "kernelspec": {
      "name": "python3",
      "display_name": "Python 3"
    },
    "language_info": {
      "name": "python"
    }
  },
  "cells": [
    {
      "cell_type": "markdown",
      "metadata": {
        "id": "view-in-github",
        "colab_type": "text"
      },
      "source": [
        "<a href=\"https://colab.research.google.com/github/clint-bg/demos/blob/main/PaintCanFlamewBuret/PaintCanFlame_w_Buret.ipynb\" target=\"_parent\"><img src=\"https://colab.research.google.com/assets/colab-badge.svg\" alt=\"Open In Colab\"/></a>"
      ]
    },
    {
      "cell_type": "markdown",
      "source": [
        "# Paint Can Flame and Bubble Buret\n",
        "Clint Guymon<br>\n",
        "BYU Chemical Engineering<br><br>\n"
      ],
      "metadata": {
        "id": "CaxZMs6Rl1M1"
      }
    },
    {
      "cell_type": "markdown",
      "source": [
        "This is a follow-up to the initial calculation that can be found [here](https://colab.research.google.com/drive/12hMitSzPuh_qgLULOdLjz7xfKmRt7Q31?usp=sharing). A one gallon paint can is filled with a flammable gas (methane) after which air is supplied into the side of the can at different flow rates. \n",
        "\n",
        "A video of the setup is [here](https://youtu.be/lmnPmjaJAsw)."
      ],
      "metadata": {
        "id": "55iU81wjARAb"
      }
    },
    {
      "cell_type": "markdown",
      "source": [
        "![](https://github.com/clint-bg/demos/blob/main/PaintCanFlamewBuret/BubbleBurretwithPaintCanFlame.png?raw=true)"
      ],
      "metadata": {
        "id": "YebKpwGK_WkU"
      }
    },
    {
      "cell_type": "markdown",
      "source": [
        "## Transient Material Balances"
      ],
      "metadata": {
        "id": "xtM0JCCxAK07"
      }
    },
    {
      "cell_type": "markdown",
      "source": [
        "The change in the internal composition of the can can be estimated from a material balance where:<br>\n",
        "accumulation = in - out + generation - consumption<br><br>\n",
        "The above equation can be written for both the flammable component (methane) and the air component inside the can. There isn't any generation or consumption of air or methane inside the can so those terms are zero. The accumulation term is a derivative. In symbolic notation the above equation is: <br>\n",
        "\\begin{align}\n",
        "dn_f/dt = - \\dot{n}^{out}_f, \\\\\n",
        "dn_a/dt = \\dot{n}^{in}_a - \\dot{n}^{out}_a\n",
        "\\end{align} <br>\n",
        "The dot above the n indicates a rate so that $\\dot{n}$ is the change in moles per second from the flow into or out of the can. The derivatives, $dn/dt$, is the change in moles inside the can of the flammable or air component per time. These derivatives are important as they can be integrated numerically to obtain the actual number of moles as a function of time inside the can. With that information, the expected time before the flame is expected to go out or transition inside the can can be estimated. Similarly, the time at which a flammable concentration is reached inside the can can be determined. <br><br>\n",
        "\n",
        "There is a constant flow of aid into the can as measured by the bubble burret. The flow into the can is the same as the outflow as the pressure inside the can is constant.\n"
      ],
      "metadata": {
        "id": "k04cW6RQAiPR"
      }
    },
    {
      "cell_type": "markdown",
      "source": [
        "## Object Oriented Model"
      ],
      "metadata": {
        "id": "zFYU39iu-kWw"
      }
    },
    {
      "cell_type": "code",
      "execution_count": null,
      "metadata": {
        "id": "ekgBkM2ylzFS"
      },
      "outputs": [],
      "source": [
        "import numpy as np\n",
        "import matplotlib.pyplot as plt\n",
        "from scipy.integrate import odeint\n",
        "import param"
      ]
    },
    {
      "cell_type": "code",
      "source": [
        "class Can(param.Parameterized):\n",
        "  'Model for filling can with a gas'\n",
        "  Rg = param.Number(8.314,doc='Gas constant (Jol/mol/K)',constant=True)\n",
        "  ch4mw = param.Number(0.016,doc='methane molecular weight (kg/mol)',constant=True)\n",
        "  airmw = param.Number(0.029,doc='air molecular weight (kg/mol)',constant=True)\n",
        "  Vol = param.Number(0.00379,doc='Volume of 1 gallon in m3 (m3)')\n",
        "  Patm = param.Number(85000,doc='Atmospheric pressure (Pa)')\n",
        "  T = param.Number(293,doc='Temperature (K)')\n",
        "  topholedia = param.Number(0.25*0.0254,doc='Top hole diameter (m)')\n",
        "  out_mlpersec = 75/3 #ml/s\n",
        "\n",
        "  #solved for parameters\n",
        "  t = param.List(np.linspace(0,800,600).tolist()) #list of times to solve for, converted to a list\n",
        "\n",
        "  def totalmoles(self): #moles of air\n",
        "    return self.Patm*self.Vol/(self.Rg*self.T)\n",
        "\n",
        "  def derivs_empty(self,y,t): #derivatives \n",
        "    nf,na = y; fracf = nf/(na+nf); flow = self.outlet()[1]\n",
        "    dnfdt = - flow*fracf\n",
        "    dnadt = flow - (1-fracf)*flow\n",
        "    dydt = [dnfdt,dnadt]\n",
        "    return dydt\n",
        "\n",
        "  def outlet(self): #outlet flow from the top hole on can due to bouyancy and diffusion \n",
        "    #outflow per the measurement with the Burret\n",
        "    volflow = self.out_mlpersec/1e6 # converted to m3/s\n",
        "    flow = self.Patm*volflow/(self.Rg*self.T)# PV/RT to convert the volumetric flow to moles per second of air\n",
        "    vel = volflow/(np.pi/4*self.topholedia**2) #m/s, velocity out the top of the hole\n",
        "    return [vel,flow]\n",
        "\n",
        "  def solve(self): #solves for each time step\n",
        "    self.empty = odeint(self.derivs_empty,[self.totalmoles(),0],self.t)\n",
        "\n",
        "  def plot(self):\n",
        "    #solve with the given parameters\n",
        "    self.solve()\n",
        "    #set up plot\n",
        "    fracfe = self.empty[:, 0]/(self.empty[:,1]+self.empty[:,0])\n",
        "    x = self.t\n",
        "    upperfl = [0.15 for each in x]; lowerfl = [0.05 for each in x]; outfvel = [self.outlet()[0] for each in x]\n",
        "    #return plot\n",
        "    fig, ax = plt.subplots(figsize=(12,8))\n",
        "    plt.plot(self.t, fracfe,'r', label='Mole fraction of flammable gas during emptying')\n",
        "    plt.plot(self.t,outfvel,'b-.', label='Outlet flow velocity (m/s)')\n",
        "    plt.plot(self.t,[0.3 for each in self.t],'k--',alpha=0.5,label='CH4 flame propagation speed (0.3 m/s)')\n",
        "    ax.fill_between(x,upperfl,lowerfl,color='r',alpha=0.1,label='flammability limits')\n",
        "    plt.legend(loc='best')\n",
        "    plt.xlabel('time (sec)')\n",
        "    ax.set_ylim([0, 3.5])\n",
        "    plt.text(50,0.1,'Flammable zone');plt.text(600,0.31,'CH4 Flame Speed in Air (0.3 m/s)')\n",
        "    plt.grid() \n",
        "    return plt"
      ],
      "metadata": {
        "id": "JudnkPpxd6H7"
      },
      "execution_count": null,
      "outputs": []
    },
    {
      "cell_type": "code",
      "source": [
        "paintcan = Can()\n",
        "paintcan.out_mlpersec = 100\n",
        "paintcan.plot().show()"
      ],
      "metadata": {
        "id": "eiwT--6sqafH",
        "colab": {
          "base_uri": "https://localhost:8080/",
          "height": 501
        },
        "outputId": "d50111ff-fcb0-4e3a-9e1e-fdbeacf6db77"
      },
      "execution_count": null,
      "outputs": [
        {
          "output_type": "display_data",
          "data": {
            "text/plain": [
              "<Figure size 864x576 with 1 Axes>"
            ],
            "image/png": "[encoded data removed]"
          },
          "metadata": {
            "needs_background": "light"
          }
        }
      ]
    },
    {
      "cell_type": "markdown",
      "source": [
        "| Flow   |      Result      | \n",
        "|----------|:-------------:|\n",
        "| 10 mL/s |  <b>explosion</b> with 0.25 in dia hole|\n",
        "| 25 mL/s |    <b>no explosion</b> with 0.25 in dia hole  |  \n",
        "|75 mL/s | <b>no explosion</b>  with 0.25 in dia hole|"
      ],
      "metadata": {
        "id": "NncFJg11BmBS"
      }
    },
    {
      "cell_type": "code",
      "source": [],
      "metadata": {
        "id": "lfV94LTiCBhK"
      },
      "execution_count": null,
      "outputs": []
    }
  ]
}