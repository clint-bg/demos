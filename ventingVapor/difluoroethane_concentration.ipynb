{
  "nbformat": 4,
  "nbformat_minor": 0,
  "metadata": {
    "colab": {
      "name": "difluoroethane concentration.ipynb",
      "provenance": [],
      "collapsed_sections": []
    },
    "kernelspec": {
      "name": "python3",
      "display_name": "Python 3"
    },
    "language_info": {
      "name": "python"
    }
  },
  "cells": [
    {
      "cell_type": "markdown",
      "source": [
        "Estimate the concentration of difluoroethane (dfe, also known as R-152A) inside a 10'x10'x8' room.\n",
        "---\n",
        "Assume that all 10 ounces is dispersed immediately. (SI Units)"
      ],
      "metadata": {
        "id": "5CxEXZN8oiYD"
      }
    },
    {
      "cell_type": "code",
      "source": [
        "dfe_MW = 0.06605 #kg/mol\n",
        "dfe_mass = 10*0.0283495*1 #one 10 ounces converted to kilograms\n",
        "room = 10*10*8*(1/3.281)**3 #room volume in m3\n",
        "air_MW = 0.029 #kg/mol\n",
        "air_density = 84116.04/8.314/298*air_MW #kg/m3 based on 12.2 psi (84116 Pa) at 5000 ft at temp of 298 K\n",
        "dfe_density = 84116.04/8.314/253*dfe_MW"
      ],
      "metadata": {
        "id": "ujOhejWlogUF"
      },
      "execution_count": null,
      "outputs": []
    },
    {
      "cell_type": "code",
      "source": [
        "#displace the air to insert the dfe (constant pressure)\n",
        "dfe_vol = dfe_mass/dfe_density\n",
        "air_vol = room-dfe_vol\n",
        "air_mass = air_vol*air_density"
      ],
      "metadata": {
        "id": "-GTUnl6xt4bn"
      },
      "execution_count": null,
      "outputs": []
    },
    {
      "cell_type": "code",
      "source": [
        "#mass of air in the room\n",
        "weightpercent = dfe_mass/(air_mass+dfe_mass)*100\n",
        "molpercent = (dfe_mass/dfe_MW)/((dfe_mass/dfe_MW)+(air_mass/air_MW))*100\n",
        "volpercent = dfe_vol/room*100"
      ],
      "metadata": {
        "id": "_I-q5Q3ErJGL"
      },
      "execution_count": null,
      "outputs": []
    },
    {
      "cell_type": "code",
      "source": [
        "weightpercent,molpercent,volpercent"
      ],
      "metadata": {
        "colab": {
          "base_uri": "https://localhost:8080/"
        },
        "id": "mE7ndkHCrN_D",
        "outputId": "075e953a-8473-425a-c4f2-377558ac194a"
      },
      "execution_count": null,
      "outputs": [
        {
          "output_type": "execute_result",
          "data": {
            "text/plain": [
              "(1.2611722190102728, 0.5576771686162152, 0.47386322777292444)"
            ]
          },
          "metadata": {},
          "execution_count": 4
        }
      ]
    },
    {
      "cell_type": "code",
      "source": [
        "#approximate safety factor (approximate number of cans to reach LEL)\n",
        "3.5/volpercent"
      ],
      "metadata": {
        "colab": {
          "base_uri": "https://localhost:8080/"
        },
        "id": "fHD4GDo_xkOa",
        "outputId": "785be0bc-f6a2-40cc-f30e-3ab36687aec4"
      },
      "execution_count": null,
      "outputs": [
        {
          "output_type": "execute_result",
          "data": {
            "text/plain": [
              "7.38609749578881"
            ]
          },
          "metadata": {},
          "execution_count": 5
        }
      ]
    },
    {
      "cell_type": "markdown",
      "source": [
        "Flammability limits of dfe are between 3.5 and 16.9% (by volume assumed)"
      ],
      "metadata": {
        "id": "rxdVhAc_wdEu"
      }
    },
    {
      "cell_type": "code",
      "source": [
        "#Now calculate the concentration of dfe in the air\n",
        "dfe_conc = dfe_mass/room*1000 #kg/m3"
      ],
      "metadata": {
        "id": "uRfzNwTvwmi6"
      },
      "execution_count": null,
      "outputs": []
    },
    {
      "cell_type": "code",
      "source": [
        "#approximate safety factor (aproximately number of cans to reach LC50)\n",
        "977/dfe_conc"
      ],
      "metadata": {
        "colab": {
          "base_uri": "https://localhost:8080/"
        },
        "id": "Y6CP-Ccfw026",
        "outputId": "ad3cd77e-6803-433a-bcd3-f0c5454cf2fc"
      },
      "execution_count": null,
      "outputs": [
        {
          "output_type": "execute_result",
          "data": {
            "text/plain": [
              "78.05854573181136"
            ]
          },
          "metadata": {},
          "execution_count": 7
        }
      ]
    },
    {
      "cell_type": "markdown",
      "source": [
        "LC50, Inhalation, Mouse, 977 gm/m3 (see SDS at https://www.digitalinnovations.com/wp-content/uploads/di-Clean-Dr.-Mutli-Purpose-Duster-SDS-English-20210727-updated-9.8.21.pdf)"
      ],
      "metadata": {
        "id": "K3mYl90Ew1-I"
      }
    }
  ]
}