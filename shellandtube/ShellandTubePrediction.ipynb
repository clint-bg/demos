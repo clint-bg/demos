{
  "nbformat": 4,
  "nbformat_minor": 0,
  "metadata": {
    "colab": {
      "name": "ShellandTubePrediction.ipynb",
      "provenance": [],
      "collapsed_sections": [],
      "toc_visible": true,
      "authorship_tag": "ABX9TyPZ66cYyHq9L9i0Ouiv8jWg",
      "include_colab_link": true
    },
    "kernelspec": {
      "name": "python3",
      "display_name": "Python 3"
    },
    "language_info": {
      "name": "python"
    }
  },
  "cells": [
    {
      "cell_type": "markdown",
      "metadata": {
        "id": "view-in-github",
        "colab_type": "text"
      },
      "source": [
        "<a href=\"https://colab.research.google.com/github/clint-bg/demos/blob/main/shellandtube/ShellandTubePrediction.ipynb\" target=\"_parent\"><img src=\"https://colab.research.google.com/assets/colab-badge.svg\" alt=\"Open In Colab\"/></a>"
      ]
    },
    {
      "cell_type": "markdown",
      "source": [
        "# Shell and Tube Prediction\n",
        "This sheet is designed to predict the response of a shell and tube heat exchanger given the following input\n",
        "*   Flow rate through the tube side\n",
        "*   Incoming temperature of the fluid (tube side)\n",
        "*   Steam pressure on the shell side\n",
        "*   Details of the heat exchanger (number of tubes, tube diameter, tube length etc.)\n",
        "\n",
        "Predicted output will be:\n",
        "*   Exit temperature of the fluid to be heated\n",
        "\n"
      ],
      "metadata": {
        "id": "Rhckc9HyKnfq"
      }
    },
    {
      "cell_type": "markdown",
      "source": [
        "## Heat Exchanger Details\n",
        "The heat exchanger is a vertically oriented Standard Xchange shell and tube heat exchanger SSCF type and Model number 0314 (3 inch shell diameter and 14 inch tube length). Further details include the number of tubes (56) and the tube size (1/4\" outside diameter and 24 BWG 0.022 inches). The baffle spacing on the shell side is either 1.5 or 4 inches depending on the exchanger.\n",
        "\n",
        "The water flows through the tubes and the steam is on the shell side in contact with the external surface of the tubes."
      ],
      "metadata": {
        "id": "yiGD9m3NPoxE"
      }
    },
    {
      "cell_type": "markdown",
      "source": [
        "![My Image](https://github.com/clint-bg/demos/blob/main/shellandtube/shellandtubesscf.png?raw=true)"
      ],
      "metadata": {
        "id": "t0DMRtpYXZz1"
      }
    },
    {
      "cell_type": "markdown",
      "source": [
        "## Governing Principles\n",
        "Using empirical correlations for the shell and tube sides of the heat exchanger together with the heat exchanger details, we can estimate the heat imparted to the process fluid (water). From that heat amount and an energy balance, the temperature of the exiting fluid can be estimated. The governing equation for the heat transfer is based on the Log Mean Tempearture Difference (LMTD) approach and is:\n",
        "$Q = U\\cdot A\\cdot F\\cdot \\Delta T_{LM}$\n",
        "\n",
        "where $U$ is the overall heat transfer coefficient, $A$ is the area, $F$ is a LMTD correction factor based on the heat exchanger type (1 for condensing vapors), and $\\Delta T_{LM}$ is the log-mean tempearture difference.  \n",
        "\n",
        "The heat exchanged is also equal to the energy picked up by the fluid (water) after passing through the exchanger and is equivalent to:\n",
        "$Q = \\dot{m}\\cdot C_p\\cdot \\Delta T$\n",
        "\n",
        "where $\\dot{m}$ is the mass flow, $C_p$ is the heat capacity, and $\\Delta T$ is the change in temperature."
      ],
      "metadata": {
        "id": "GODUpicnjBTR"
      }
    },
    {
      "cell_type": "markdown",
      "source": [
        "## Helpful resources\n",
        "The NCEES Handbook for the chemical engineering exams is very helpful. It can be downloaded for free from the NCEES website after registering with them. See https://help.ncees.org/article/87-ncees-exam-reference-handbooks. Of course other resources can be used for the engineering principles, empirical correlations, and hueristics. The images with the equations and drawings here are directly from the NCEES Handbook for chemical engineering."
      ],
      "metadata": {
        "id": "9yKSXzfmto09"
      }
    },
    {
      "cell_type": "code",
      "source": [
        "#import needed packages\n",
        "import numpy as np\n",
        "from scipy.optimize import fsolve\n",
        "from scipy import stats\n",
        "import matplotlib.pyplot as plt"
      ],
      "metadata": {
        "id": "Yffk-e7PSUwq"
      },
      "execution_count": 1,
      "outputs": []
    },
    {
      "cell_type": "markdown",
      "source": [
        "### Property data for water"
      ],
      "metadata": {
        "id": "nnt-wBq5RnCi"
      }
    },
    {
      "cell_type": "code",
      "source": [
        "heatcapacity =  4182 #J/kg/K\n",
        "thermalconductivity = 0.598 #W/m/K\n",
        "viscosity = 0.0004 #Pa*s estimated at 70 C\n",
        "density = 997 #kg/m3\n",
        "heatofvaporization = 2.257E6 # J/g\n",
        "#steam temperature as a function of pressure given pressure in units of psig\n",
        "steampressuredata = [84.55,120.82,169.06,232.1,313.0, 415.4,543.1] #kPa\n",
        "steamtemperaturedata = [95,105,115,125,135,145,155] #degrees C\n",
        "z = np.polyfit(steampressuredata, steamtemperaturedata, 2)\n",
        "plt.plot(steampressuredata, steamtemperaturedata, 'o', label='original data')\n",
        "xlin = np.linspace(min(steampressuredata), max(steampressuredata), 100)\n",
        "ylin = z[2] + z[1]*xlin + z[0]*xlin**2\n",
        "plt.plot(xlin, ylin, 'r', label='fitted line'); plt.xlabel(\"steam pressure, kPa\"); plt.ylabel(\"steam temperature, C\")\n",
        "plt.legend(); plt.show()\n",
        "def steamtemp(pressure=10): #returns C from psig\n",
        "  kpapressurea = (pressure + 12.5)*6.895 #convert from gauge pressure in psi to absolute in kPa\n",
        "  return z[2] + z[1]*kpapressurea + z[0]*kpapressurea**2\n"
      ],
      "metadata": {
        "colab": {
          "base_uri": "https://localhost:8080/",
          "height": 279
        },
        "id": "A8SKt7xWRmTH",
        "outputId": "5f93fb87-3628-463c-d10e-62756e5b5015"
      },
      "execution_count": 2,
      "outputs": [
        {
          "output_type": "display_data",
          "data": {
            "text/plain": [
              "<Figure size 432x288 with 1 Axes>"
            ],
            "image/png": "[encoded data removed]"
          },
          "metadata": {
            "needs_background": "light"
          }
        }
      ]
    },
    {
      "cell_type": "markdown",
      "source": [
        "### Properties of the heat exchanger\n"
      ],
      "metadata": {
        "id": "hwJXY2PQRzLm"
      }
    },
    {
      "cell_type": "code",
      "source": [
        "tubeod = 0.25*0.0254 #1/4 inches to meters\n",
        "wallthickness = 0.022*0.0254 #24 BWG\n",
        "wallthermalconductivity = 45 #W/m/K\n",
        "tubeid = tubeod - wallthickness # m\n",
        "numberoftubes = 56\n",
        "tubelength = 14*0.0254 #m\n",
        "tubebafflelength = 1.5*0.0254 #m\n",
        "surfacearea = numberoftubes*np.pi*tubeod*tubelength # This is the total surface area of the tubes (outside)"
      ],
      "metadata": {
        "id": "fRSkQlmE-9MJ"
      },
      "execution_count": 3,
      "outputs": []
    },
    {
      "cell_type": "markdown",
      "source": [
        "## Approach\n",
        "The approach in this writeup is to first give an **rough expected range** for the exit temperature based on some hueristics for the overall heat transfer coefficient. After that, the nitty-gritty correlations will be used to get a better estimate we'll call **the narrowed-in estimate**."
      ],
      "metadata": {
        "id": "O2Pv8AIEyAIQ"
      }
    },
    {
      "cell_type": "code",
      "source": [
        "#define flow rate through the heat exchanger in gallons per minute\n",
        "flowgpm = 20 #gallons per minute\n",
        "massflow = flowgpm/264.2*density/60 #convert to SI units in kg/sec\n",
        "#defline steam pressure\n",
        "steampressurepsig = 10\n",
        "#define inlet temperature\n",
        "inlettemp = 25 #C"
      ],
      "metadata": {
        "id": "NlqBPz9CHvRv"
      },
      "execution_count": 4,
      "outputs": []
    },
    {
      "cell_type": "markdown",
      "source": [
        "### Rough Expected Range\n",
        "This is a back-of-the-envelop estimate. There are engineering expected ranges for variables that can be effectively used to narrow in on the answer. Doing so can be very useful in understanding the problem and getting a feel for the outcome and expected results. It sometimes can be very easy to dive deeply into a problem and get lost with mistakes easily derailing your complex analysis. Doing a back-of-the-envelope estimate can help with that."
      ],
      "metadata": {
        "id": "xB2uvG360slk"
      }
    },
    {
      "cell_type": "markdown",
      "source": [
        "Equation to solve: $\\dot{m}\\cdot C_p\\cdot (T_{out}-T_{in}) = U\\cdot A\\cdot (T_{out} - T_{in})/ln((T_{cond}-T_{in})/(T_{cond}-T_{out}))$"
      ],
      "metadata": {
        "id": "CADsl5CYFjQQ"
      }
    },
    {
      "cell_type": "markdown",
      "source": [
        "![My Image](https://github.com/clint-bg/demos/blob/main/shellandtube/condensationlmtd.png?raw=true) "
      ],
      "metadata": {
        "id": "P6vvbgKQF8so"
      }
    },
    {
      "cell_type": "markdown",
      "source": [
        "#### Overall heat transfer coefficient Range\n",
        "From the NCEES Handbook on Page 188, there's a table that is titled: Typical Overall Heat-Transfer Coefficients in Heaters (Shell and Tube) with Condensing Steam. In that table, for a heated fluid of water, the heat transfer coefficient is 1500-4000 W/m2/K. Based on that and a given condition (flow rate and the intial fluid temperature and the steam temperature/pressure) the exit temperature can be found."
      ],
      "metadata": {
        "id": "CFnwHi0D--j4"
      }
    },
    {
      "cell_type": "code",
      "source": [
        "overallU = [1500,4000]"
      ],
      "metadata": {
        "id": "AGrn1vI_X0Yp"
      },
      "execution_count": 5,
      "outputs": []
    },
    {
      "cell_type": "code",
      "source": [
        "#define equation to solve given the overall heat transfer coefficient\n",
        "def func(x,*U):\n",
        "  Tcond = steamtemp(steampressurepsig)\n",
        "  return U[0]*surfacearea*(x-inlettemp)/np.log((Tcond-inlettemp)/(Tcond-x))-massflow*heatcapacity*(x-inlettemp)"
      ],
      "metadata": {
        "id": "DcfkdwNnFD26"
      },
      "execution_count": 6,
      "outputs": []
    },
    {
      "cell_type": "code",
      "source": [
        "#now solve for the outlet temperature range\n",
        "outlettemprange = []\n",
        "for U in overallU:\n",
        "  outlettemprange.append(fsolve(func,inlettemp+30,args=(U))[0])\n",
        "print(f\"So given a flow rate of {flowgpm} gpm, an inlet temperature of {inlettemp:.1f} C, and steam pressure of {steampressurepsig} psig, the expected outlet temperature is between {outlettemprange[0]:.1f} and {outlettemprange[1]:.1f} C\")"
      ],
      "metadata": {
        "colab": {
          "base_uri": "https://localhost:8080/"
        },
        "id": "33jwXUMZLK4x",
        "outputId": "11ce96e6-3e42-4e61-d1a7-daec74a27de3"
      },
      "execution_count": 7,
      "outputs": [
        {
          "output_type": "stream",
          "name": "stdout",
          "text": [
            "So given a flow rate of 20 gpm, an inlet temperature of 25.0 C, and steam pressure of 10 psig, the expected outlet temperature is between 34.2 and 47.4 C\n"
          ]
        }
      ]
    },
    {
      "cell_type": "markdown",
      "source": [
        "### The Narrowed-In Estimate\n",
        "Using the results from the Rough Expected Range estimate above, further analysis can be completed to get a better estimate. Those calculations are completed here. We'll first estimate the tube side and shell side heat transfer coefficients from empirical correlations."
      ],
      "metadata": {
        "id": "t_9gYbhR2BI9"
      }
    },
    {
      "cell_type": "markdown",
      "source": [
        "#### Tube side heat transfer coefficient\n",
        "Most correlations are functions of the Reynolds and Prandlt numbers so we'll calculate those first."
      ],
      "metadata": {
        "id": "y4-S9rbvY9u0"
      }
    },
    {
      "cell_type": "code",
      "source": [
        "fluidvelocity = massflow/density/(numberoftubes*np.pi/4*tubeid**2) #velocity of the fluid in m/s\n",
        "Re = density*tubeid*fluidvelocity/viscosity #Reynolds number\n",
        "Pr = heatcapacity*viscosity/thermalconductivity\n",
        "Re,Pr"
      ],
      "metadata": {
        "colab": {
          "base_uri": "https://localhost:8080/"
        },
        "id": "FYejUGJvnzjo",
        "outputId": "52632b00-6f57-4bed-bc05-4ca81843aced"
      },
      "execution_count": 8,
      "outputs": [
        {
          "output_type": "execute_result",
          "data": {
            "text/plain": [
              "(12346.237497701488, 2.7973244147157192)"
            ]
          },
          "metadata": {},
          "execution_count": 8
        }
      ]
    },
    {
      "cell_type": "markdown",
      "source": [
        "The correlation for turbulent flow inside a circular pipe for the Nusselt number can be found on Page 150 of the NCEES Handbook and is below."
      ],
      "metadata": {
        "id": "PIk44aXzj2Y9"
      }
    },
    {
      "cell_type": "code",
      "source": [
        ""
      ],
      "metadata": {
        "id": "ys7VkyTkj1UE"
      },
      "execution_count": 8,
      "outputs": []
    },
    {
      "cell_type": "code",
      "source": [
        "insideNu = 0.023*(Re**0.8)*(Pr**0.33) #will assume the ratio in the viscosity at the tube interior vs the surface raised to the 0.14 power is close to 1\n",
        "insideh = insideNu*thermalconductivity/tubeid\n",
        "insideh # W/m2/K"
      ],
      "metadata": {
        "colab": {
          "base_uri": "https://localhost:8080/"
        },
        "id": "QUcupdpde34g",
        "outputId": "2461229a-ddd8-42be-e4f4-593e3e803456"
      },
      "execution_count": 9,
      "outputs": [
        {
          "output_type": "execute_result",
          "data": {
            "text/plain": [
              "6256.238460841464"
            ]
          },
          "metadata": {},
          "execution_count": 9
        }
      ]
    },
    {
      "cell_type": "markdown",
      "source": [
        "#### Shell side heat transfer coefficient\n",
        "Condensing steam on a vertical surface, assumed laminar. The associated Nusselt number correlation is on Page 163 of the NCEES Handbook."
      ],
      "metadata": {
        "id": "7MI3hIsjicNe"
      }
    },
    {
      "cell_type": "code",
      "source": [
        "outsideNu = 0.943*(((density**2)*9.81*heatofvaporization*tubebafflelength**3)/(viscosity*thermalconductivity*(10)))**0.25 #difference between the surface temperature and saturated steam temperature estimated to be 10 C (per the NCEES handbook its between 3 and 22)\n",
        "outsideh = outsideNu*thermalconductivity/tubebafflelength\n",
        "outsideh"
      ],
      "metadata": {
        "colab": {
          "base_uri": "https://localhost:8080/"
        },
        "id": "dJuP8oieg_U5",
        "outputId": "3d656c4c-44ba-44ac-91c0-0b5ace540587"
      },
      "execution_count": 18,
      "outputs": [
        {
          "output_type": "execute_result",
          "data": {
            "text/plain": [
              "12500.836060338457"
            ]
          },
          "metadata": {},
          "execution_count": 18
        }
      ]
    },
    {
      "cell_type": "markdown",
      "source": [
        "#### Overall heat transfer coefficient\n",
        "The overall heat transfer coefficient is an inverse sum of the individual heat transfer coefficients including the thermal conductivity of the tube as given on Page 164 of the NCEES Handbook."
      ],
      "metadata": {
        "id": "3kKq83iimm1e"
      }
    },
    {
      "cell_type": "code",
      "source": [
        "Uov = 1/(1/insideh*tubeod/tubeid + tubeod/2/wallthermalconductivity*np.log(tubeod/tubeid) + 1/outsideh) #assuming no fouling\n",
        "print(f'So the overall heat transfer coefficient, without fouling, is {Uov:.0f} which is in the range estimated above')"
      ],
      "metadata": {
        "colab": {
          "base_uri": "https://localhost:8080/"
        },
        "id": "WQHbiFQxl4FZ",
        "outputId": "4840392d-03dd-4bf2-a125-09f6ae410ca4"
      },
      "execution_count": 19,
      "outputs": [
        {
          "output_type": "stream",
          "name": "stdout",
          "text": [
            "So the overall heat transfer coefficient, without fouling, is 3820 which is in the range estimated above\n"
          ]
        }
      ]
    },
    {
      "cell_type": "markdown",
      "source": [
        "##### Including Fouling\n",
        "The NCEES handbook gives representative fouling factors in Section 4.4.1.5 on Page 190 which is partially reproduced below."
      ],
      "metadata": {
        "id": "GaX8G2pNo1LG"
      }
    },
    {
      "cell_type": "markdown",
      "source": [
        "![My Image](https://github.com/clint-bg/demos/blob/main/shellandtube/foulingfactors.png?raw=true) "
      ],
      "metadata": {
        "id": "3Dm53Bnpq1UL"
      }
    },
    {
      "cell_type": "code",
      "source": [
        "Uovwithfouling = 1/(1/Uov + 0.0005*tubeod/tubeid) #assuming the shell side fouling is effectively zero (clean steam)\n",
        "Uovwithfouling"
      ],
      "metadata": {
        "colab": {
          "base_uri": "https://localhost:8080/"
        },
        "id": "i5KaXsdrnMKK",
        "outputId": "a0846d78-4ec0-45ad-e9af-b485e6898dba"
      },
      "execution_count": 22,
      "outputs": [
        {
          "output_type": "execute_result",
          "data": {
            "text/plain": [
              "1234.563076670487"
            ]
          },
          "metadata": {},
          "execution_count": 22
        }
      ]
    },
    {
      "cell_type": "code",
      "source": [
        "#now solve for the outlet temperature range\n",
        "outlettemprange = []\n",
        "for U in [Uovwithfouling,Uov]:\n",
        "  outlettemprange.append(fsolve(func,inlettemp+30,args=(U))[0])\n",
        "print(f\"So given a flow rate of {flowgpm} gpm, an inlet temperature of {inlettemp:.1f} C, and steam pressure of {steampressurepsig} psig, the expected outlet temperature is between {outlettemprange[0]:.1f} and {outlettemprange[1]:.1f} C including and not including fouling, respectively.\")"
      ],
      "metadata": {
        "colab": {
          "base_uri": "https://localhost:8080/"
        },
        "id": "G2SxxXDXsb_X",
        "outputId": "e2b81809-a89c-4441-9c90-7cd23ad2b2e5"
      },
      "execution_count": 25,
      "outputs": [
        {
          "output_type": "stream",
          "name": "stdout",
          "text": [
            "So given a flow rate of 20 gpm, an inlet temperature of 25.0 C, and steam pressure of 10 psig, the expected outlet temperature is between 32.6 and 46.5 C including and not including fouling, respectively.\n"
          ]
        }
      ]
    },
    {
      "cell_type": "markdown",
      "source": [
        "Note that the range of temperatures expected with and without fouling is approximately the same as the range for the estimate overal heat transfer coefficient range given above."
      ],
      "metadata": {
        "id": "wp2kZaG8tOxw"
      }
    },
    {
      "cell_type": "code",
      "source": [
        ""
      ],
      "metadata": {
        "id": "cCcru1eRriYi"
      },
      "execution_count": null,
      "outputs": []
    }
  ]
}