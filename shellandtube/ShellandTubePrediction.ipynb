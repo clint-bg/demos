{
  "nbformat": 4,
  "nbformat_minor": 0,
  "metadata": {
    "colab": {
      "name": "ShellandTubePrediction.ipynb",
      "provenance": [],
      "collapsed_sections": [],
      "toc_visible": true,
      "authorship_tag": "ABX9TyNzdDzQ5qDXbzcBmzhVY6VZ",
      "include_colab_link": true
    },
    "kernelspec": {
      "name": "python3",
      "display_name": "Python 3"
    },
    "language_info": {
      "name": "python"
    }
  },
  "cells": [
    {
      "cell_type": "markdown",
      "metadata": {
        "id": "view-in-github",
        "colab_type": "text"
      },
      "source": [
        "<a href=\"https://colab.research.google.com/github/clint-bg/demos/blob/main/shellandtube/ShellandTubePrediction.ipynb\" target=\"_parent\"><img src=\"https://colab.research.google.com/assets/colab-badge.svg\" alt=\"Open In Colab\"/></a>"
      ]
    },
    {
      "cell_type": "markdown",
      "source": [
        "# Shell and Tube Prediction\n",
        "This sheet is designed to predict the response of a shell and tube heat exchanger given the following input\n",
        "*   Flow rate through the tube side\n",
        "*   Incoming temperature of the fluid (tube side) to be heated\n",
        "*   Steam pressure on the shell side\n",
        "*   Details of the heat exchanger (number of tubes, tube diameter, tube length etc.)\n",
        "\n",
        "Predicted output will be:\n",
        "*   Exit temperature of the fluid to be heated\n",
        "\n"
      ],
      "metadata": {
        "id": "Rhckc9HyKnfq"
      }
    },
    {
      "cell_type": "markdown",
      "source": [
        "## Heat Exchanger Details\n",
        "The heat exchanger is a vertically oriented Standard Xchange shell and tube heat exchanger SSCF type and Model number 0314 (3 inch shell diameter and 14 inch tube length). Further details include the number of tubes (56) and the tube size (1/4\" outside diameter and 24 BWG 0.022 inches). The baffle spacing on the shell side is either 1.5 or 4 inches depending on the exchanger.\n",
        "\n",
        "The water flows through the tubes and the steam is on the shell side in contact with the external surface of the tubes."
      ],
      "metadata": {
        "id": "yiGD9m3NPoxE"
      }
    },
    {
      "cell_type": "markdown",
      "source": [
        "![My Image](https://github.com/clint-bg/demos/blob/main/shellandtube/shellandtubesscf.png?raw=true)"
      ],
      "metadata": {
        "id": "t0DMRtpYXZz1"
      }
    },
    {
      "cell_type": "markdown",
      "source": [
        "## Governing Principles\n",
        "Using empirical correlations for the shell and tube sides of the heat exchanger together with the heat exchanger details, we can estimate the heat imparted to the process fluid (water). From that heat amount and an energy balance, the temperature of the exiting fluid can be estimated. The governing equation for the heat transfer is based on the Log Mean Tempearture Difference (LMTD) approach and is:\n",
        "$Q = U\\cdot A\\cdot F\\cdot \\Delta T_{LM}$\n",
        "\n",
        "where $U$ is the overall heat transfer coefficient, $A$ is the area, $F$ is a LMTD correction factor based on the heat exchanger type (1 for condensing vapors), and $\\Delta T_{LM}$ is the log-mean tempearture difference.  \n",
        "\n",
        "The heat exchanged is also equal to the energy picked up by the fluid (water) after passing through the exchanger and is equivalent to:\n",
        "$Q = \\dot{m}\\cdot C_p\\cdot \\Delta T$\n",
        "\n",
        "where $\\dot{m}$ is the mass flow, $C_p$ is the heat capacity, and $\\Delta T$ is the change in temperature."
      ],
      "metadata": {
        "id": "GODUpicnjBTR"
      }
    },
    {
      "cell_type": "markdown",
      "source": [
        "## Helpful resources\n",
        "The NCEES Handbook for the chemical engineering exams is very helpful. It can be downloaded for free from the NCEES website after registering with them. See https://help.ncees.org/article/87-ncees-exam-reference-handbooks. Of course other resources can be used for the engineering principles, empirical correlations, and hueristics. The images with the equations and drawings here are directly from the NCEES Handbook for chemical engineering."
      ],
      "metadata": {
        "id": "9yKSXzfmto09"
      }
    },
    {
      "cell_type": "markdown",
      "source": [
        "## Approach\n",
        "The approach in this writeup is to first give an **rough expected range** for the exit temperature based on some hueristics for the overall heat transfer coefficient. After that, the nitty-gritty correlations will be used to get a better estimate we'll call **the narrowed-in estimate**."
      ],
      "metadata": {
        "id": "O2Pv8AIEyAIQ"
      }
    },
    {
      "cell_type": "markdown",
      "source": [
        "### Rough Expected Range\n",
        "This is a back-of-the-envelop estimate. There are engineering expected ranges for variables that can be effectively used to narrow in on the answer. Doing so can be very useful in understanding the problem and getting a feel for the outcome and expected results. It sometimes can be very easy to dive deeply into a problem and get lost with mistakes easily derailing your complex analysis. Doing a back-of-the-envelope estimate can help with that."
      ],
      "metadata": {
        "id": "xB2uvG360slk"
      }
    },
    {
      "cell_type": "markdown",
      "source": [
        "### The Narrowed-In Estimate\n",
        "Using the results from the Rough Expected Range estimate above, further analysis can be completed to get a better estimate. Those calculations are completed here."
      ],
      "metadata": {
        "id": "t_9gYbhR2BI9"
      }
    },
    {
      "cell_type": "code",
      "source": [
        ""
      ],
      "metadata": {
        "id": "FYejUGJvnzjo"
      },
      "execution_count": null,
      "outputs": []
    }
  ]
}